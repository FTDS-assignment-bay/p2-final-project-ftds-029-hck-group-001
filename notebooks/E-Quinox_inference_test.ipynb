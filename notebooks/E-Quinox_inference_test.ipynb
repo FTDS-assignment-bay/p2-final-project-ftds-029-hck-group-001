{
 "cells": [
  {
   "cell_type": "code",
   "execution_count": 29,
   "id": "8c2f8eae",
   "metadata": {},
   "outputs": [],
   "source": [
    "# Importing libraries\n",
    "import numpy as np\n",
    "from equinox_inference import load_bandit, EQuinoxPredictor\n",
    "\n",
    "# Configuration\n",
    "RANDOM_SEED = 69\n",
    "np.random.seed(RANDOM_SEED)"
   ]
  },
  {
   "cell_type": "code",
   "execution_count": 30,
   "id": "ffed7a3e",
   "metadata": {},
   "outputs": [],
   "source": [
    "# Usage in inference notebook\n",
    "equinox_bandit = load_bandit(\"equinox_model\")\n",
    "equinox_bandit_gbm = load_bandit(\"equinox_gbm_model\")"
   ]
  },
  {
   "cell_type": "code",
   "execution_count": null,
   "id": "c6f1fdf1",
   "metadata": {},
   "outputs": [],
   "source": [
    "# Complete inference example\n",
    "user_feats = {\n",
    "    'total_views': 80,                  # From user_features\n",
    "    'events_per_day': 8.5,              # From user_features\n",
    "    'conversion_rate': 0.4,             # From user_features\n",
    "    'avg_price_viewed': 250000,         # From user_features\n",
    "    'max_price_viewed': 300000,         # From user_features\n",
    "    'unique_categories': 3,             # From user_features\n",
    "    'user_tenure_days': 7,              # From user_features\n",
    "    'has_converted': 0,                 # From user_features\n",
    "    'avg_availability': 0.95            # New from availability feature\n",
    "}\n",
    "\n",
    "session_context = {\n",
    "    'hour': 14,                         # From processed_events\n",
    "    'is_weekend': False,                # From processed_events\n",
    "    'item_price': 275000,               # From processed_events\n",
    "    'item_category': 805                # From processed_events\n",
    "}"
   ]
  },
  {
   "cell_type": "code",
   "execution_count": 32,
   "id": "8e534ece",
   "metadata": {},
   "outputs": [
    {
     "name": "stdout",
     "output_type": "stream",
     "text": [
      "{\n",
      "  \"recommendation\": \"popup_abandoned_cart_reminder\",\n",
      "  \"predicted_conversion_lift\": \"59.7%\",\n",
      "  \"action_breakdown\": {\n",
      "    \"email_no_discount\": 0.9964825855213351,\n",
      "    \"email_10%_discount\": 0.09507813868486874,\n",
      "    \"banner_limited_time_offer\": 0.14235294191015982,\n",
      "    \"popup_abandoned_cart_reminder\": 0.9972283520489399\n",
      "  }\n",
      "}\n",
      "{\n",
      "  \"recommendation\": \"popup_abandoned_cart_reminder\",\n",
      "  \"predicted_conversion_lift\": \"25.2%\",\n",
      "  \"action_breakdown\": {\n",
      "    \"email_no_discount\": 0.008845079888100457,\n",
      "    \"email_10%_discount\": 0.04531294536412638,\n",
      "    \"banner_limited_time_offer\": 0.006914316834676935,\n",
      "    \"popup_abandoned_cart_reminder\": 0.6523371772528292\n",
      "  }\n",
      "}\n"
     ]
    }
   ],
   "source": [
    "# Run inference\n",
    "\n",
    "# Initialize predictor\n",
    "predictor = EQuinoxPredictor(equinox_bandit)\n",
    "predictor_gbm = EQuinoxPredictor(equinox_bandit_gbm)\n",
    "\n",
    "# Make predictions\n",
    "result = predictor.predict(user_feats, session_context)\n",
    "result_gbm = predictor_gbm.predict(user_feats, session_context)\n",
    "\n",
    "print(predictor.predict_formatted(user_feats, session_context))\n",
    "print(predictor_gbm.predict_formatted(user_feats, session_context))"
   ]
  }
 ],
 "metadata": {
  "kernelspec": {
   "display_name": "base",
   "language": "python",
   "name": "python3"
  },
  "language_info": {
   "codemirror_mode": {
    "name": "ipython",
    "version": 3
   },
   "file_extension": ".py",
   "mimetype": "text/x-python",
   "name": "python",
   "nbconvert_exporter": "python",
   "pygments_lexer": "ipython3",
   "version": "3.12.3"
  }
 },
 "nbformat": 4,
 "nbformat_minor": 5
}
